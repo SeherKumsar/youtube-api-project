{
 "cells": [
  {
   "cell_type": "code",
   "execution_count": 1,
   "metadata": {},
   "outputs": [],
   "source": [
    "import pandas as pd\n",
    "# from api_methods import *\n",
    "from api_methods import get_chanel_stats, get_video_ids, get_video_comments\n",
    "\n",
    "from googleapiclient.discovery import build\n",
    "from IPython.display import JSON\n",
    "\n",
    "from config.config import YOUTUBE_API_KEY"
   ]
  },
  {
   "cell_type": "code",
   "execution_count": 2,
   "metadata": {},
   "outputs": [],
   "source": [
    "# Get credentials and create an API client\n",
    "api_service_name = \"youtube\"\n",
    "api_version = \"v3\"\n",
    "\n",
    "youtube = build(\n",
    "    api_service_name, api_version, developerKey=YOUTUBE_API_KEY)"
   ]
  },
  {
   "cell_type": "code",
   "execution_count": 3,
   "metadata": {},
   "outputs": [],
   "source": [
    "import requests\n",
    "import time"
   ]
  },
  {
   "cell_type": "code",
   "execution_count": 4,
   "metadata": {},
   "outputs": [],
   "source": [
    "def get_video_statistics(video_id, youtube_api_key):\n",
    "    # collecting video statistics\n",
    "    video_stats_url = \"https://www.googleapis.com/youtube/v3/videos?id=\"+video_id+\"&part=statistics&key=\"+youtube_api_key\n",
    "    video_stats_response = requests.get(video_stats_url).json()\n",
    "\n",
    "    view_count = video_stats_response['items'][0][\"statistics\"][\"viewCount\"]\n",
    "    like_count = video_stats_response['items'][0][\"statistics\"][\"likeCount\"]\n",
    "\n",
    "    return view_count, like_count"
   ]
  },
  {
   "cell_type": "code",
   "execution_count": 5,
   "metadata": {},
   "outputs": [],
   "source": [
    "def get_videos_from_channel(df, channel_id, youtube_api_key):\n",
    "    # make API call\n",
    "    pageToken = \"\"\n",
    "    url = \"https://www.googleapis.com/youtube/v3/search?key=\"+youtube_api_key+\"&channelId=\"+channel_id+\"&part=snippet,id&order=date&maxResults=500\"+pageToken\n",
    "    \n",
    "    response = requests.get(url).json()\n",
    "    time.sleep(3)\n",
    "\n",
    "    for video in response['items']:\n",
    "        if video['id']['kind'] == 'youtube#video':\n",
    "            video_title = video['snippet']['title']\n",
    "            video_id = video['id']['videoId']\n",
    "            upload_date = video['snippet']['publishedAt']\n",
    "            upload_date= str(upload_date).split(\"T\")[0]\n",
    "\n",
    "            view_count, like_count = get_video_statistics(video_id, youtube_api_key)\n",
    "\n",
    "            #save in pandas df\n",
    "            df = df._append({\n",
    "                \"video_id\": video_id,\n",
    "                \"video_title\": video_title,\n",
    "                \"upload_date\": upload_date,\n",
    "                \"view_count\": view_count,\n",
    "                \"like_count\": like_count\n",
    "            }, \n",
    "            ignore_index = True\n",
    "            )\n",
    "    return df"
   ]
  },
  {
   "cell_type": "code",
   "execution_count": 6,
   "metadata": {},
   "outputs": [],
   "source": [
    "CHANNEL_ID = \"UCLA_DiR1FfKNvjuUpBHmylQ\"\n",
    "\n",
    "df = pd.DataFrame(columns=[\"video_id\",\"video_title\",\"upload_date\",\"view_count\",\"like_count\"])\n",
    "youtube_data = get_videos_from_channel(df, CHANNEL_ID, YOUTUBE_API_KEY)"
   ]
  },
  {
   "cell_type": "code",
   "execution_count": 7,
   "metadata": {},
   "outputs": [
    {
     "data": {
      "text/html": [
       "<div>\n",
       "<style scoped>\n",
       "    .dataframe tbody tr th:only-of-type {\n",
       "        vertical-align: middle;\n",
       "    }\n",
       "\n",
       "    .dataframe tbody tr th {\n",
       "        vertical-align: top;\n",
       "    }\n",
       "\n",
       "    .dataframe thead th {\n",
       "        text-align: right;\n",
       "    }\n",
       "</style>\n",
       "<table border=\"1\" class=\"dataframe\">\n",
       "  <thead>\n",
       "    <tr style=\"text-align: right;\">\n",
       "      <th></th>\n",
       "      <th>video_id</th>\n",
       "      <th>video_title</th>\n",
       "      <th>upload_date</th>\n",
       "      <th>view_count</th>\n",
       "      <th>like_count</th>\n",
       "    </tr>\n",
       "  </thead>\n",
       "  <tbody>\n",
       "    <tr>\n",
       "      <th>0</th>\n",
       "      <td>WnLhpmoA_hU</td>\n",
       "      <td>Rollout of Our Experimental Supersonic X-Plane...</td>\n",
       "      <td>2024-01-13</td>\n",
       "      <td>88929</td>\n",
       "      <td>2720</td>\n",
       "    </tr>\n",
       "    <tr>\n",
       "      <th>1</th>\n",
       "      <td>1nXlbgjIoP4</td>\n",
       "      <td>Axiom Mission 3 Launches to the International ...</td>\n",
       "      <td>2024-01-12</td>\n",
       "      <td>0</td>\n",
       "      <td>295</td>\n",
       "    </tr>\n",
       "    <tr>\n",
       "      <th>2</th>\n",
       "      <td>KjCdGqgD9Bs</td>\n",
       "      <td>Rollout of the X-59 Quesst Supersonic Plane (O...</td>\n",
       "      <td>2024-01-12</td>\n",
       "      <td>664483</td>\n",
       "      <td>16554</td>\n",
       "    </tr>\n",
       "    <tr>\n",
       "      <th>3</th>\n",
       "      <td>_tdsia6EZY8</td>\n",
       "      <td>Artemis: Onward to the Moon</td>\n",
       "      <td>2024-01-09</td>\n",
       "      <td>224315</td>\n",
       "      <td>13019</td>\n",
       "    </tr>\n",
       "    <tr>\n",
       "      <th>4</th>\n",
       "      <td>BWwnpVk6Wq4</td>\n",
       "      <td>First US Commercial Moon Launch: Astrobotic Pe...</td>\n",
       "      <td>2024-01-08</td>\n",
       "      <td>412978</td>\n",
       "      <td>11118</td>\n",
       "    </tr>\n",
       "  </tbody>\n",
       "</table>\n",
       "</div>"
      ],
      "text/plain": [
       "      video_id                                        video_title upload_date  \\\n",
       "0  WnLhpmoA_hU  Rollout of Our Experimental Supersonic X-Plane...  2024-01-13   \n",
       "1  1nXlbgjIoP4  Axiom Mission 3 Launches to the International ...  2024-01-12   \n",
       "2  KjCdGqgD9Bs  Rollout of the X-59 Quesst Supersonic Plane (O...  2024-01-12   \n",
       "3  _tdsia6EZY8                        Artemis: Onward to the Moon  2024-01-09   \n",
       "4  BWwnpVk6Wq4  First US Commercial Moon Launch: Astrobotic Pe...  2024-01-08   \n",
       "\n",
       "  view_count like_count  \n",
       "0      88929       2720  \n",
       "1          0        295  \n",
       "2     664483      16554  \n",
       "3     224315      13019  \n",
       "4     412978      11118  "
      ]
     },
     "execution_count": 7,
     "metadata": {},
     "output_type": "execute_result"
    }
   ],
   "source": [
    "youtube_data.head()"
   ]
  },
  {
   "cell_type": "code",
   "execution_count": 11,
   "metadata": {},
   "outputs": [],
   "source": [
    "# Channels to analyze\n",
    "channel_ids = [\n",
    "    \"UCLA_DiR1FfKNvjuUpBHmylQ\",\n",
    "    # Can add more channels\n",
    "]"
   ]
  },
  {
   "cell_type": "code",
   "execution_count": 12,
   "metadata": {},
   "outputs": [],
   "source": [
    "channel_stats = get_chanel_stats(youtube, channel_ids)"
   ]
  },
  {
   "cell_type": "code",
   "execution_count": 13,
   "metadata": {},
   "outputs": [
    {
     "data": {
      "text/html": [
       "<div>\n",
       "<style scoped>\n",
       "    .dataframe tbody tr th:only-of-type {\n",
       "        vertical-align: middle;\n",
       "    }\n",
       "\n",
       "    .dataframe tbody tr th {\n",
       "        vertical-align: top;\n",
       "    }\n",
       "\n",
       "    .dataframe thead th {\n",
       "        text-align: right;\n",
       "    }\n",
       "</style>\n",
       "<table border=\"1\" class=\"dataframe\">\n",
       "  <thead>\n",
       "    <tr style=\"text-align: right;\">\n",
       "      <th></th>\n",
       "      <th>channelName</th>\n",
       "      <th>subscribers</th>\n",
       "      <th>views</th>\n",
       "      <th>totalVideos</th>\n",
       "      <th>playlistId</th>\n",
       "    </tr>\n",
       "  </thead>\n",
       "  <tbody>\n",
       "    <tr>\n",
       "      <th>0</th>\n",
       "      <td>NASA</td>\n",
       "      <td>11600000</td>\n",
       "      <td>994421893</td>\n",
       "      <td>5760</td>\n",
       "      <td>UULA_DiR1FfKNvjuUpBHmylQ</td>\n",
       "    </tr>\n",
       "  </tbody>\n",
       "</table>\n",
       "</div>"
      ],
      "text/plain": [
       "  channelName subscribers      views totalVideos                playlistId\n",
       "0        NASA    11600000  994421893        5760  UULA_DiR1FfKNvjuUpBHmylQ"
      ]
     },
     "execution_count": 13,
     "metadata": {},
     "output_type": "execute_result"
    }
   ],
   "source": [
    "channel_stats"
   ]
  },
  {
   "cell_type": "code",
   "execution_count": 14,
   "metadata": {},
   "outputs": [],
   "source": [
    "playlist_id = channel_stats.loc[channel_stats['channelName']== \"NASA\", \"playlistId\"].iloc[0]"
   ]
  },
  {
   "cell_type": "code",
   "execution_count": 15,
   "metadata": {},
   "outputs": [],
   "source": [
    "video_idss = get_video_ids(youtube, playlist_id)"
   ]
  },
  {
   "cell_type": "code",
   "execution_count": 16,
   "metadata": {},
   "outputs": [
    {
     "data": {
      "text/plain": [
       "5765"
      ]
     },
     "execution_count": 16,
     "metadata": {},
     "output_type": "execute_result"
    }
   ],
   "source": [
    "len(video_idss)"
   ]
  },
  {
   "cell_type": "code",
   "execution_count": 17,
   "metadata": {},
   "outputs": [
    {
     "data": {
      "text/plain": [
       "['WnLhpmoA_hU', '1nXlbgjIoP4', 'KjCdGqgD9Bs', 'eC3Fl7Bt4qQ', '_tdsia6EZY8']"
      ]
     },
     "execution_count": 17,
     "metadata": {},
     "output_type": "execute_result"
    }
   ],
   "source": [
    "video_idss[:5]"
   ]
  },
  {
   "cell_type": "code",
   "execution_count": 27,
   "metadata": {},
   "outputs": [],
   "source": [
    "video_ids = [\n",
    "    \"h0oclM1Yw2A\",\n",
    "]"
   ]
  },
  {
   "cell_type": "code",
   "execution_count": 28,
   "metadata": {},
   "outputs": [],
   "source": [
    "# Get video comments\n",
    "video_comments = get_video_comments(youtube, video_ids)\n",
    "# video_comments to dataframe\n",
    "video_comments_df = pd.DataFrame(video_comments)"
   ]
  },
  {
   "cell_type": "code",
   "execution_count": 29,
   "metadata": {},
   "outputs": [
    {
     "data": {
      "text/html": [
       "<div>\n",
       "<style scoped>\n",
       "    .dataframe tbody tr th:only-of-type {\n",
       "        vertical-align: middle;\n",
       "    }\n",
       "\n",
       "    .dataframe tbody tr th {\n",
       "        vertical-align: top;\n",
       "    }\n",
       "\n",
       "    .dataframe thead th {\n",
       "        text-align: right;\n",
       "    }\n",
       "</style>\n",
       "<table border=\"1\" class=\"dataframe\">\n",
       "  <thead>\n",
       "    <tr style=\"text-align: right;\">\n",
       "      <th></th>\n",
       "      <th>0</th>\n",
       "    </tr>\n",
       "  </thead>\n",
       "  <tbody>\n",
       "    <tr>\n",
       "      <th>0</th>\n",
       "      <td>They could have gotten better views from the t...</td>\n",
       "    </tr>\n",
       "    <tr>\n",
       "      <th>1</th>\n",
       "      <td>Bon courage 🎉</td>\n",
       "    </tr>\n",
       "    <tr>\n",
       "      <th>2</th>\n",
       "      <td>They failed to mention the first female astron...</td>\n",
       "    </tr>\n",
       "    <tr>\n",
       "      <th>3</th>\n",
       "      <td>🎉</td>\n",
       "    </tr>\n",
       "    <tr>\n",
       "      <th>4</th>\n",
       "      <td>ERES UNA VIAJERA EN EL TIEMPO  ESCUCHANDO SU M...</td>\n",
       "    </tr>\n",
       "  </tbody>\n",
       "</table>\n",
       "</div>"
      ],
      "text/plain": [
       "                                                   0\n",
       "0  They could have gotten better views from the t...\n",
       "1                                      Bon courage 🎉\n",
       "2  They failed to mention the first female astron...\n",
       "3                                                  🎉\n",
       "4  ERES UNA VIAJERA EN EL TIEMPO  ESCUCHANDO SU M..."
      ]
     },
     "execution_count": 29,
     "metadata": {},
     "output_type": "execute_result"
    }
   ],
   "source": [
    "video_comments_df.head()"
   ]
  },
  {
   "cell_type": "code",
   "execution_count": 30,
   "metadata": {},
   "outputs": [],
   "source": [
    "# # save to csv\n",
    "# video_comments_df.to_csv(\"video_comments.csv\", index=False)"
   ]
  },
  {
   "cell_type": "code",
   "execution_count": null,
   "metadata": {},
   "outputs": [],
   "source": []
  }
 ],
 "metadata": {
  "kernelspec": {
   "display_name": "Python 3",
   "language": "python",
   "name": "python3"
  },
  "language_info": {
   "codemirror_mode": {
    "name": "ipython",
    "version": 3
   },
   "file_extension": ".py",
   "mimetype": "text/x-python",
   "name": "python",
   "nbconvert_exporter": "python",
   "pygments_lexer": "ipython3",
   "version": "3.11.5"
  }
 },
 "nbformat": 4,
 "nbformat_minor": 2
}
