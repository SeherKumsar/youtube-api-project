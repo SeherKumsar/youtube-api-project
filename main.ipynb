{
 "cells": [
  {
   "cell_type": "markdown",
   "metadata": {},
   "source": [
    "## Youtube API "
   ]
  },
  {
   "cell_type": "code",
   "execution_count": 1,
   "metadata": {},
   "outputs": [],
   "source": [
    "#pip install --upgrade google-api-python-client"
   ]
  },
  {
   "cell_type": "code",
   "execution_count": 2,
   "metadata": {},
   "outputs": [],
   "source": [
    "#pip install pandas"
   ]
  },
  {
   "cell_type": "code",
   "execution_count": 6,
   "metadata": {},
   "outputs": [],
   "source": [
    "from config.config import YOUTUBE_API_KEY\n",
    "from googleapiclient.discovery import build\n",
    "# Her seferinde request atmak yerine bir kere request atıp onu kullanmak için (GET HTTP)\n",
    "from IPython.display import JSON\n",
    "import pandas as pd"
   ]
  },
  {
   "cell_type": "code",
   "execution_count": 4,
   "metadata": {},
   "outputs": [
    {
     "name": "stdout",
     "output_type": "stream",
     "text": [
      "{'kind': 'youtube#channelListResponse', 'etag': 'wt-lcFz9ri-QMZAJZnUrtETWhbI', 'pageInfo': {'totalResults': 1, 'resultsPerPage': 5}, 'items': [{'kind': 'youtube#channel', 'etag': 'AEhF68XsRwq7SKo5_4lKgSJTSFc', 'id': 'UCYO_jab_esuFRV4b17AJtAw', 'snippet': {'title': '3Blue1Brown', 'description': 'My name is Grant Sanderson. Videos here cover a variety of topics in math, or adjacent fields like physics and CS, all with an emphasis on visualizing the core ideas. To goal is to use animation to help elucidate and motivate otherwise tricky topics, and for difficult problems to be made simple with changes in perspective.\\n\\nFor more information, other projects, FAQs, and inquiries see the website: https://www.3blue1brown.com', 'customUrl': '@3blue1brown', 'publishedAt': '2015-03-03T23:11:55Z', 'thumbnails': {'default': {'url': 'https://yt3.ggpht.com/ytc/AIf8zZSApZdSBilmxjGARJbX1WdIFYXFv69aixy9FcJraA=s88-c-k-c0x00ffffff-no-rj', 'width': 88, 'height': 88}, 'medium': {'url': 'https://yt3.ggpht.com/ytc/AIf8zZSApZdSBilmxjGARJbX1WdIFYXFv69aixy9FcJraA=s240-c-k-c0x00ffffff-no-rj', 'width': 240, 'height': 240}, 'high': {'url': 'https://yt3.ggpht.com/ytc/AIf8zZSApZdSBilmxjGARJbX1WdIFYXFv69aixy9FcJraA=s800-c-k-c0x00ffffff-no-rj', 'width': 800, 'height': 800}}, 'localized': {'title': '3Blue1Brown', 'description': 'My name is Grant Sanderson. Videos here cover a variety of topics in math, or adjacent fields like physics and CS, all with an emphasis on visualizing the core ideas. To goal is to use animation to help elucidate and motivate otherwise tricky topics, and for difficult problems to be made simple with changes in perspective.\\n\\nFor more information, other projects, FAQs, and inquiries see the website: https://www.3blue1brown.com'}, 'country': 'US'}, 'contentDetails': {'relatedPlaylists': {'likes': '', 'uploads': 'UUYO_jab_esuFRV4b17AJtAw'}}, 'statistics': {'viewCount': '404355901', 'subscriberCount': '5710000', 'hiddenSubscriberCount': False, 'videoCount': '157'}}]}\n"
     ]
    }
   ],
   "source": [
    "api_service_name = \"youtube\"\n",
    "api_version = \"v3\"\n",
    "\n",
    "channel_ids = [\n",
    "    \"UCYO_jab_esuFRV4b17AJtAw\",\n",
    "    # Can add more channels\n",
    "]\n",
    "\n",
    "# Get credentials and create an API client\n",
    "\n",
    "youtube = build(\n",
    "    api_service_name, api_version, developerKey=YOUTUBE_API_KEY)\n",
    "\n",
    "request = youtube.channels().list(\n",
    "    part=\"snippet,contentDetails,statistics\",\n",
    "    id=\",\".join(channel_ids)\n",
    ")\n",
    "response = request.execute()\n",
    "\n",
    "print(response)"
   ]
  },
  {
   "cell_type": "code",
   "execution_count": 7,
   "metadata": {},
   "outputs": [
    {
     "data": {
      "application/json": {
       "etag": "wt-lcFz9ri-QMZAJZnUrtETWhbI",
       "items": [
        {
         "contentDetails": {
          "relatedPlaylists": {
           "likes": "",
           "uploads": "UUYO_jab_esuFRV4b17AJtAw"
          }
         },
         "etag": "AEhF68XsRwq7SKo5_4lKgSJTSFc",
         "id": "UCYO_jab_esuFRV4b17AJtAw",
         "kind": "youtube#channel",
         "snippet": {
          "country": "US",
          "customUrl": "@3blue1brown",
          "description": "My name is Grant Sanderson. Videos here cover a variety of topics in math, or adjacent fields like physics and CS, all with an emphasis on visualizing the core ideas. To goal is to use animation to help elucidate and motivate otherwise tricky topics, and for difficult problems to be made simple with changes in perspective.\n\nFor more information, other projects, FAQs, and inquiries see the website: https://www.3blue1brown.com",
          "localized": {
           "description": "My name is Grant Sanderson. Videos here cover a variety of topics in math, or adjacent fields like physics and CS, all with an emphasis on visualizing the core ideas. To goal is to use animation to help elucidate and motivate otherwise tricky topics, and for difficult problems to be made simple with changes in perspective.\n\nFor more information, other projects, FAQs, and inquiries see the website: https://www.3blue1brown.com",
           "title": "3Blue1Brown"
          },
          "publishedAt": "2015-03-03T23:11:55Z",
          "thumbnails": {
           "default": {
            "height": 88,
            "url": "https://yt3.ggpht.com/ytc/AIf8zZSApZdSBilmxjGARJbX1WdIFYXFv69aixy9FcJraA=s88-c-k-c0x00ffffff-no-rj",
            "width": 88
           },
           "high": {
            "height": 800,
            "url": "https://yt3.ggpht.com/ytc/AIf8zZSApZdSBilmxjGARJbX1WdIFYXFv69aixy9FcJraA=s800-c-k-c0x00ffffff-no-rj",
            "width": 800
           },
           "medium": {
            "height": 240,
            "url": "https://yt3.ggpht.com/ytc/AIf8zZSApZdSBilmxjGARJbX1WdIFYXFv69aixy9FcJraA=s240-c-k-c0x00ffffff-no-rj",
            "width": 240
           }
          },
          "title": "3Blue1Brown"
         },
         "statistics": {
          "hiddenSubscriberCount": false,
          "subscriberCount": "5710000",
          "videoCount": "157",
          "viewCount": "404355901"
         }
        }
       ],
       "kind": "youtube#channelListResponse",
       "pageInfo": {
        "resultsPerPage": 5,
        "totalResults": 1
       }
      },
      "text/plain": [
       "<IPython.core.display.JSON object>"
      ]
     },
     "execution_count": 7,
     "metadata": {
      "application/json": {
       "expanded": false,
       "root": "root"
      }
     },
     "output_type": "execute_result"
    }
   ],
   "source": [
    "JSON(response)"
   ]
  },
  {
   "cell_type": "code",
   "execution_count": 8,
   "metadata": {},
   "outputs": [],
   "source": [
    "api_service_name = \"youtube\"\n",
    "api_version = \"v3\"\n",
    "\n",
    "chanel_ids = [\n",
    "    \"UCYO_jab_esuFRV4b17AJtAw\"\n",
    "    # Can add more channels here\n",
    "]\n",
    "\n",
    "# Get credentials and create an API client\n",
    "youtube = build(api_service_name, api_version, developerKey=YOUTUBE_API_KEY)"
   ]
  },
  {
   "cell_type": "code",
   "execution_count": 9,
   "metadata": {},
   "outputs": [],
   "source": [
    "def get_chanel_stats(youtube, chanel_ids):\n",
    "    # Bir liste oluşturarak verileri bu listeye ekle\n",
    "    all_data = []\n",
    "\n",
    "    request = youtube.channels().list(\n",
    "        part=\"snippet, contentDetails, statistics\", # part parametresi ile verileri seçmek zorunlu\n",
    "        id=','.join(chanel_ids) # id parametresi ile kanal id'lerini virgül ile ayırarak gönderiyoruz\n",
    "    )\n",
    "\n",
    "    response = request.execute()\n",
    "\n",
    "    for item in response[\"items\"]:\n",
    "        data = {\n",
    "            'channelName': item[\"snippet\"][\"title\"],\n",
    "            'subscribers': item[\"statistics\"][\"subscriberCount\"],\n",
    "            'views': item[\"statistics\"][\"viewCount\"],\n",
    "            'totalVideos': item[\"statistics\"][\"videoCount\"],\n",
    "            'playlistId': item[\"contentDetails\"][\"relatedPlaylists\"][\"uploads\"]\n",
    "        }\n",
    "        all_data.append(data)\n",
    "\n",
    "    return pd.DataFrame(all_data)"
   ]
  },
  {
   "cell_type": "code",
   "execution_count": 10,
   "metadata": {},
   "outputs": [],
   "source": [
    "channel_ids = get_chanel_stats(youtube, chanel_ids)"
   ]
  },
  {
   "cell_type": "code",
   "execution_count": 11,
   "metadata": {},
   "outputs": [
    {
     "data": {
      "text/html": [
       "<div>\n",
       "<style scoped>\n",
       "    .dataframe tbody tr th:only-of-type {\n",
       "        vertical-align: middle;\n",
       "    }\n",
       "\n",
       "    .dataframe tbody tr th {\n",
       "        vertical-align: top;\n",
       "    }\n",
       "\n",
       "    .dataframe thead th {\n",
       "        text-align: right;\n",
       "    }\n",
       "</style>\n",
       "<table border=\"1\" class=\"dataframe\">\n",
       "  <thead>\n",
       "    <tr style=\"text-align: right;\">\n",
       "      <th></th>\n",
       "      <th>channelName</th>\n",
       "      <th>subscribers</th>\n",
       "      <th>views</th>\n",
       "      <th>totalVideos</th>\n",
       "      <th>playlistId</th>\n",
       "    </tr>\n",
       "  </thead>\n",
       "  <tbody>\n",
       "    <tr>\n",
       "      <th>0</th>\n",
       "      <td>3Blue1Brown</td>\n",
       "      <td>5710000</td>\n",
       "      <td>404355901</td>\n",
       "      <td>157</td>\n",
       "      <td>UUYO_jab_esuFRV4b17AJtAw</td>\n",
       "    </tr>\n",
       "  </tbody>\n",
       "</table>\n",
       "</div>"
      ],
      "text/plain": [
       "   channelName subscribers      views totalVideos                playlistId\n",
       "0  3Blue1Brown     5710000  404355901         157  UUYO_jab_esuFRV4b17AJtAw"
      ]
     },
     "execution_count": 11,
     "metadata": {},
     "output_type": "execute_result"
    }
   ],
   "source": [
    "channel_ids"
   ]
  },
  {
   "cell_type": "code",
   "execution_count": null,
   "metadata": {},
   "outputs": [],
   "source": []
  }
 ],
 "metadata": {
  "kernelspec": {
   "display_name": "Python 3",
   "language": "python",
   "name": "python3"
  },
  "language_info": {
   "codemirror_mode": {
    "name": "ipython",
    "version": 3
   },
   "file_extension": ".py",
   "mimetype": "text/x-python",
   "name": "python",
   "nbconvert_exporter": "python",
   "pygments_lexer": "ipython3",
   "version": "3.11.5"
  }
 },
 "nbformat": 4,
 "nbformat_minor": 2
}
